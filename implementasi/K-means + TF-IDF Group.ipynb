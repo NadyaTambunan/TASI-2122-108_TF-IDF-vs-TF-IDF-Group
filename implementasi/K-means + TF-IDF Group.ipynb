{
 "cells": [
  {
   "cell_type": "code",
   "execution_count": 1,
   "metadata": {},
   "outputs": [],
   "source": [
    "import os\n",
    "import pandas as pd\n",
    "import matplotlib.pyplot as plt\n",
    "%matplotlib inline\n",
    "from sklearn.cluster import MiniBatchKMeans\n",
    "from sklearn.feature_extraction.text import TfidfVectorizer"
   ]
  },
  {
   "cell_type": "code",
   "execution_count": 2,
   "metadata": {},
   "outputs": [
    {
     "data": {
      "text/html": [
       "<div>\n",
       "<style scoped>\n",
       "    .dataframe tbody tr th:only-of-type {\n",
       "        vertical-align: middle;\n",
       "    }\n",
       "\n",
       "    .dataframe tbody tr th {\n",
       "        vertical-align: top;\n",
       "    }\n",
       "\n",
       "    .dataframe thead th {\n",
       "        text-align: right;\n",
       "    }\n",
       "</style>\n",
       "<table border=\"1\" class=\"dataframe\">\n",
       "  <thead>\n",
       "    <tr style=\"text-align: right;\">\n",
       "      <th></th>\n",
       "      <th>title</th>\n",
       "      <th>description</th>\n",
       "      <th>content</th>\n",
       "      <th>length</th>\n",
       "      <th>article</th>\n",
       "    </tr>\n",
       "  </thead>\n",
       "  <tbody>\n",
       "    <tr>\n",
       "      <th>0</th>\n",
       "      <td>NTSB says Autopilot engaged in 2018 California...</td>\n",
       "      <td>The National Transportation Safety Board said ...</td>\n",
       "      <td>WASHINGTON (Reuters) - The National Transporta...</td>\n",
       "      <td>578</td>\n",
       "      <td>['ntsb', 'says', 'autopilot', 'engaged', 'cali...</td>\n",
       "    </tr>\n",
       "    <tr>\n",
       "      <th>1</th>\n",
       "      <td>Unemployment falls to post-crash low of 5.2%</td>\n",
       "      <td>Latest monthly figures reflect continued growt...</td>\n",
       "      <td>The States jobless rate fell to 5.2 per cent l...</td>\n",
       "      <td>387</td>\n",
       "      <td>['unemployment', 'falls', 'post', 'crash', 'low']</td>\n",
       "    </tr>\n",
       "    <tr>\n",
       "      <th>2</th>\n",
       "      <td>Louise Kennedy AW2019: Long coats, sparkling t...</td>\n",
       "      <td>Autumn-winter collection features designer’s g...</td>\n",
       "      <td>Louise Kennedy is showing off her autumn-winte...</td>\n",
       "      <td>432</td>\n",
       "      <td>['louise', 'kennedy', 'aw2019', 'long', 'coats...</td>\n",
       "    </tr>\n",
       "    <tr>\n",
       "      <th>3</th>\n",
       "      <td>North Korean footballer Han joins Italian gian...</td>\n",
       "      <td>Han is the first North Korean player in the Se...</td>\n",
       "      <td>Han Kwang Song, the first North Korean footbal...</td>\n",
       "      <td>446</td>\n",
       "      <td>['north', 'korean', 'footballer', 'han', 'join...</td>\n",
       "    </tr>\n",
       "    <tr>\n",
       "      <th>4</th>\n",
       "      <td>'This Tender Land' is an affecting story about...</td>\n",
       "      <td>\"This Tender Land\" by William Kent Krueger is ...</td>\n",
       "      <td>\"This Tender Land: a Novel\" (Atria Books), by ...</td>\n",
       "      <td>500</td>\n",
       "      <td>['tender', 'land', 'affecting', 'story', 'grow...</td>\n",
       "    </tr>\n",
       "  </tbody>\n",
       "</table>\n",
       "</div>"
      ],
      "text/plain": [
       "                                               title  \\\n",
       "0  NTSB says Autopilot engaged in 2018 California...   \n",
       "1       Unemployment falls to post-crash low of 5.2%   \n",
       "2  Louise Kennedy AW2019: Long coats, sparkling t...   \n",
       "3  North Korean footballer Han joins Italian gian...   \n",
       "4  'This Tender Land' is an affecting story about...   \n",
       "\n",
       "                                         description  \\\n",
       "0  The National Transportation Safety Board said ...   \n",
       "1  Latest monthly figures reflect continued growt...   \n",
       "2  Autumn-winter collection features designer’s g...   \n",
       "3  Han is the first North Korean player in the Se...   \n",
       "4  \"This Tender Land\" by William Kent Krueger is ...   \n",
       "\n",
       "                                             content  length  \\\n",
       "0  WASHINGTON (Reuters) - The National Transporta...     578   \n",
       "1  The States jobless rate fell to 5.2 per cent l...     387   \n",
       "2  Louise Kennedy is showing off her autumn-winte...     432   \n",
       "3  Han Kwang Song, the first North Korean footbal...     446   \n",
       "4  \"This Tender Land: a Novel\" (Atria Books), by ...     500   \n",
       "\n",
       "                                             article  \n",
       "0  ['ntsb', 'says', 'autopilot', 'engaged', 'cali...  \n",
       "1  ['unemployment', 'falls', 'post', 'crash', 'low']  \n",
       "2  ['louise', 'kennedy', 'aw2019', 'long', 'coats...  \n",
       "3  ['north', 'korean', 'footballer', 'han', 'join...  \n",
       "4  ['tender', 'land', 'affecting', 'story', 'grow...  "
      ]
     },
     "execution_count": 2,
     "metadata": {},
     "output_type": "execute_result"
    }
   ],
   "source": [
    "dataset_1 = pd.read_csv('data/dataset1_preprocessing.csv') \n",
    "dataset_1.head()"
   ]
  },
  {
   "cell_type": "markdown",
   "metadata": {},
   "source": [
    "<h3>Vectorize data with tfidf</h3>"
   ]
  },
  {
   "cell_type": "code",
   "execution_count": 3,
   "metadata": {},
   "outputs": [
    {
     "name": "stdout",
     "output_type": "stream",
     "text": [
      "8804 3588\n"
     ]
    }
   ],
   "source": [
    "tfidf_vectorizer = TfidfVectorizer(max_df=0.95, min_df=5, ngram_range=(1,2) , max_features=15000)\n",
    "X = tfidf_vectorizer.fit_transform(dataset_1.article.to_list())\n",
    "model = X.toarray()\n",
    "print(len(model), len(model[0]))"
   ]
  },
  {
   "cell_type": "code",
   "execution_count": 4,
   "metadata": {},
   "outputs": [],
   "source": [
    "from sklearn.decomposition import PCA\n",
    "\n",
    "pca = PCA(n_components=2).fit(model)\n",
    "datapoint = pca.transform(model)"
   ]
  },
  {
   "cell_type": "markdown",
   "metadata": {},
   "source": [
    "<h3>Clustering</h3>"
   ]
  },
  {
   "cell_type": "code",
   "execution_count": 5,
   "metadata": {},
   "outputs": [],
   "source": [
    "kmeans_model = MiniBatchKMeans(n_clusters=4, init='k-means++', max_iter=100) \n",
    "# X = kmeans_model.fit(model_pvdm.docvecs.doctag_syn0)\n",
    "X = kmeans_model.fit(model)\n",
    "labels = kmeans_model.labels_.tolist()"
   ]
  },
  {
   "cell_type": "code",
   "execution_count": 6,
   "metadata": {},
   "outputs": [],
   "source": [
    "kmeans_prediction = kmeans_model.fit_predict(model)"
   ]
  },
  {
   "cell_type": "markdown",
   "metadata": {},
   "source": [
    "<h3>Elbow method for finding optimal K in Kmeans</h3>"
   ]
  },
  {
   "cell_type": "code",
   "execution_count": 7,
   "metadata": {},
   "outputs": [],
   "source": [
    "# function returns Within-Cluster-Sum of Squared Errors (WSS) score for k values from 1 to kmax\n",
    "def calculate_WSS(points, kmax):\n",
    "  sse = []\n",
    "  for k in range(1, kmax+1):\n",
    "    kmeans = MiniBatchKMeans(n_clusters = k).fit(points)\n",
    "    centroids = kmeans.cluster_centers_\n",
    "    pred_clusters = kmeans.predict(points)\n",
    "    curr_sse = 0\n",
    "    \n",
    "    # calculate square of Euclidean distance of each point from its cluster center and add to current WSS\n",
    "    for i in range(len(points)):\n",
    "      curr_center = centroids[pred_clusters[i]]\n",
    "      curr_sse += (points[i, 0] - curr_center[0]) ** 2 + (points[i, 1] - curr_center[1]) ** 2\n",
    "      \n",
    "    sse.append(curr_sse)\n",
    "  return sse"
   ]
  },
  {
   "cell_type": "code",
   "execution_count": 8,
   "metadata": {},
   "outputs": [],
   "source": [
    "k_size = 10\n",
    "wss = calculate_WSS(datapoint, k_size)\n",
    "k = [x for x in range(k_size)]"
   ]
  },
  {
   "cell_type": "code",
   "execution_count": 9,
   "metadata": {},
   "outputs": [
    {
     "data": {
      "text/plain": [
       "Text(0, 0.5, 'Value of WSS')"
      ]
     },
     "execution_count": 9,
     "metadata": {},
     "output_type": "execute_result"
    },
    {
     "data": {
      "image/png": "[encoded data removed]",
      "text/plain": [
       "<Figure size 1440x720 with 1 Axes>"
      ]
     },
     "metadata": {
      "needs_background": "light"
     },
     "output_type": "display_data"
    }
   ],
   "source": [
    "plt.figure(figsize=(20,10)) # Size of figure is adjusted.\n",
    "plt.xticks(fontsize=20) # Size of number labels on x-axis is adjusted.\n",
    "plt.yticks(fontsize=20) # Size of number labels on y-axis is adjusted.\n",
    "plt.plot(k,wss,'go--', linewidth=1.5, markersize=4) # Graph is plotted.\n",
    "plt.xlabel('Value of k',fontsize = 25) # x-axis is labelled.\n",
    "plt.ylabel('Value of WSS',fontsize = 25) # y-axis is labelled."
   ]
  },
  {
   "cell_type": "markdown",
   "metadata": {},
   "source": [
    "<h3>The Silhouette Method</h3>"
   ]
  },
  {
   "cell_type": "code",
   "execution_count": 10,
   "metadata": {},
   "outputs": [
    {
     "name": "stdout",
     "output_type": "stream",
     "text": [
      "For n_clusters=2, The Silhouette Coefficient is 0.8433412691059979\n",
      "For n_clusters=3, The Silhouette Coefficient is 0.8923599098271129\n",
      "For n_clusters=4, The Silhouette Coefficient is 0.674760489397885\n",
      "For n_clusters=5, The Silhouette Coefficient is 0.7102265075573881\n",
      "For n_clusters=6, The Silhouette Coefficient is 0.7074245186663607\n",
      "For n_clusters=7, The Silhouette Coefficient is 0.7071036402305775\n",
      "For n_clusters=8, The Silhouette Coefficient is 0.5045280212509513\n",
      "For n_clusters=9, The Silhouette Coefficient is 0.5088609064799058\n",
      "For n_clusters=10, The Silhouette Coefficient is 0.4745977669017074\n",
      "For n_clusters=11, The Silhouette Coefficient is 0.4978710879867845\n",
      "For n_clusters=12, The Silhouette Coefficient is 0.39233296619337815\n",
      "For n_clusters=13, The Silhouette Coefficient is 0.47859002004051177\n",
      "For n_clusters=14, The Silhouette Coefficient is 0.4549998338734759\n",
      "For n_clusters=15, The Silhouette Coefficient is 0.46476598231861904\n",
      "For n_clusters=16, The Silhouette Coefficient is 0.4521365506984828\n",
      "For n_clusters=17, The Silhouette Coefficient is 0.44875240651893833\n",
      "For n_clusters=18, The Silhouette Coefficient is 0.44540551354193053\n",
      "For n_clusters=19, The Silhouette Coefficient is 0.36786257587809346\n",
      "For n_clusters=20, The Silhouette Coefficient is 0.38246181968185017\n"
     ]
    }
   ],
   "source": [
    "from sklearn.metrics import silhouette_score\n",
    "\n",
    "sil = []\n",
    "kmax = 20\n",
    "\n",
    "# dissimilarity would not be defined for a single cluster, thus, minimum number of clusters should be 2\n",
    "for k in range(2, kmax+1):\n",
    "  kmeans = MiniBatchKMeans(n_clusters = k).fit(datapoint)\n",
    "  labels = kmeans.labels_\n",
    "  #sil.append(silhouette_score(datapoint, labels, metric = 'euclidean'))\n",
    "  sil_coeff = silhouette_score(datapoint, labels, metric = 'euclidean')\n",
    "  print(\"For n_clusters={}, The Silhouette Coefficient is {}\".format(k, sil_coeff))"
   ]
  },
  {
   "cell_type": "markdown",
   "metadata": {},
   "source": [
    "<h3>Visualization of Clusters</h3>"
   ]
  },
  {
   "cell_type": "code",
   "execution_count": 11,
   "metadata": {
    "scrolled": false
   },
   "outputs": [
    {
     "data": {
      "text/html": [
       "<div>\n",
       "<style scoped>\n",
       "    .dataframe tbody tr th:only-of-type {\n",
       "        vertical-align: middle;\n",
       "    }\n",
       "\n",
       "    .dataframe tbody tr th {\n",
       "        vertical-align: top;\n",
       "    }\n",
       "\n",
       "    .dataframe thead th {\n",
       "        text-align: right;\n",
       "    }\n",
       "</style>\n",
       "<table border=\"1\" class=\"dataframe\">\n",
       "  <thead>\n",
       "    <tr style=\"text-align: right;\">\n",
       "      <th></th>\n",
       "      <th>title</th>\n",
       "      <th>description</th>\n",
       "      <th>content</th>\n",
       "      <th>length</th>\n",
       "      <th>article</th>\n",
       "      <th>cluster</th>\n",
       "    </tr>\n",
       "  </thead>\n",
       "  <tbody>\n",
       "    <tr>\n",
       "      <th>53</th>\n",
       "      <td>Hong Kong targets more pro-democracy activists...</td>\n",
       "      <td>Three leaders, including Demosisto's Ivan Lam,...</td>\n",
       "      <td>Hong Kong's pro-democracy political party, Dem...</td>\n",
       "      <td>448</td>\n",
       "      <td>['hong', 'kong', 'targets', 'pro', 'democracy'...</td>\n",
       "      <td>0</td>\n",
       "    </tr>\n",
       "    <tr>\n",
       "      <th>252</th>\n",
       "      <td>China Used Twitter Porn Accounts to Spread Hon...</td>\n",
       "      <td>Last month, Twitter took down almost 200,000 C...</td>\n",
       "      <td>A new report has claimed that the Chinese gove...</td>\n",
       "      <td>468</td>\n",
       "      <td>['china', 'used', 'twitter', 'porn', 'accounts...</td>\n",
       "      <td>0</td>\n",
       "    </tr>\n",
       "    <tr>\n",
       "      <th>342</th>\n",
       "      <td>Hong Kong leader says she never discussed resi...</td>\n",
       "      <td>Hong Kong leader Carrie Lam said on Tuesday sh...</td>\n",
       "      <td>HONG KONG (Reuters) - Hong Kong leader Carrie ...</td>\n",
       "      <td>589</td>\n",
       "      <td>['hong', 'kong', 'leader', 'says', 'never', 'd...</td>\n",
       "      <td>0</td>\n",
       "    </tr>\n",
       "    <tr>\n",
       "      <th>374</th>\n",
       "      <td>She’s a Protester, He’s a Police Officer: In H...</td>\n",
       "      <td>What happens when families find themselves div...</td>\n",
       "      <td>1 U.S.\\r\\nPaul Manaforts Trail of Scandals</td>\n",
       "      <td>308</td>\n",
       "      <td>['protester', 'police', 'officer', 'hong', 'ko...</td>\n",
       "      <td>0</td>\n",
       "    </tr>\n",
       "    <tr>\n",
       "      <th>526</th>\n",
       "      <td>Beijing Asserts Power to Declare Emergency to ...</td>\n",
       "      <td>Beijing Asserts Power to Declare Emergency to ...</td>\n",
       "      <td>Chinas top office for Hong Kong affairs said i...</td>\n",
       "      <td>628</td>\n",
       "      <td>['beijing', 'asserts', 'power', 'declare', 'em...</td>\n",
       "      <td>0</td>\n",
       "    </tr>\n",
       "    <tr>\n",
       "      <th>538</th>\n",
       "      <td>FedEx says correctly handled Hong Kong package...</td>\n",
       "      <td>FedEx Corp on Tuesday said it correctly handle...</td>\n",
       "      <td>BEIJING (Reuters) - FedEx Corp (FDX.N) on Tues...</td>\n",
       "      <td>588</td>\n",
       "      <td>['fedex', 'says', 'correctly', 'handled', 'hon...</td>\n",
       "      <td>0</td>\n",
       "    </tr>\n",
       "    <tr>\n",
       "      <th>614</th>\n",
       "      <td>Hong Kong Was Once Passionate About China. Now...</td>\n",
       "      <td>Hong Kong’s intellectual and emotional links w...</td>\n",
       "      <td>Even Communist Party-controlled newspapers in ...</td>\n",
       "      <td>524</td>\n",
       "      <td>['hong', 'kong', 'passionate', 'china', 'indif...</td>\n",
       "      <td>0</td>\n",
       "    </tr>\n",
       "    <tr>\n",
       "      <th>657</th>\n",
       "      <td>Hong Kong leader Carrie Lam denies offering to...</td>\n",
       "      <td>Leaked comments from lunch with industry leade...</td>\n",
       "      <td>Hong Kongs chief executive has struggled to re...</td>\n",
       "      <td>413</td>\n",
       "      <td>['hong', 'kong', 'leader', 'carrie', 'lam', 'd...</td>\n",
       "      <td>0</td>\n",
       "    </tr>\n",
       "    <tr>\n",
       "      <th>862</th>\n",
       "      <td>In Hong Kong Protests, China Angrily Connects ...</td>\n",
       "      <td>More and more fervently, China is depicting Am...</td>\n",
       "      <td>Hong Kong, by contrast, still allows nongovern...</td>\n",
       "      <td>484</td>\n",
       "      <td>['hong', 'kong', 'protests', 'china', 'angrily...</td>\n",
       "      <td>0</td>\n",
       "    </tr>\n",
       "    <tr>\n",
       "      <th>863</th>\n",
       "      <td>Hong Kong a priority for U.S. Senate Democrats...</td>\n",
       "      <td>Legislation addressing China's actions in Hong...</td>\n",
       "      <td>WASHINGTON (Reuters) - Legislation addressing ...</td>\n",
       "      <td>536</td>\n",
       "      <td>['hong', 'kong', 'priority', 'us', 'senate', '...</td>\n",
       "      <td>0</td>\n",
       "    </tr>\n",
       "    <tr>\n",
       "      <th>1029</th>\n",
       "      <td>Hong Kong leader says China 'respects and supp...</td>\n",
       "      <td>Hong Kong leader Carrie Lam said on Thursday t...</td>\n",
       "      <td>HONG KONG (Reuters) - Hong Kong leader Carrie ...</td>\n",
       "      <td>597</td>\n",
       "      <td>['hong', 'kong', 'leader', 'says', 'china', 'r...</td>\n",
       "      <td>0</td>\n",
       "    </tr>\n",
       "    <tr>\n",
       "      <th>1167</th>\n",
       "      <td>Hong Kong’s Lam vows to use ‘stern law enforce...</td>\n",
       "      <td>Many protesters vow to keep demonstrating over...</td>\n",
       "      <td>Hong Kongs embattled leader, Carrie Lam, has v...</td>\n",
       "      <td>455</td>\n",
       "      <td>['hong', 'kong', 'lam', 'vows', 'use', 'stern'...</td>\n",
       "      <td>0</td>\n",
       "    </tr>\n",
       "    <tr>\n",
       "      <th>1213</th>\n",
       "      <td>'Half an Olive Branch' Fails to Pacify Hong Ko...</td>\n",
       "      <td>'Half an Olive Branch' Fails to Pacify Hong Ko...</td>\n",
       "      <td>HONG KONGFor three months, protests here have ...</td>\n",
       "      <td>446</td>\n",
       "      <td>['half', 'olive', 'branch', 'fails', 'pacify',...</td>\n",
       "      <td>0</td>\n",
       "    </tr>\n",
       "    <tr>\n",
       "      <th>1335</th>\n",
       "      <td>As Hong Kong Protesters Push On, No Sign of Mo...</td>\n",
       "      <td>Demonstrators plan to hold more protests, call...</td>\n",
       "      <td>HONG KONG A day after Hong Kongs leader said s...</td>\n",
       "      <td>459</td>\n",
       "      <td>['hong', 'kong', 'protesters', 'push', 'sign',...</td>\n",
       "      <td>0</td>\n",
       "    </tr>\n",
       "    <tr>\n",
       "      <th>1409</th>\n",
       "      <td>Ongoing unrest in Hong Kong risks dragging dow...</td>\n",
       "      <td>News that Hong Kong Chief Executive Carrie Lam...</td>\n",
       "      <td>Bill Campbell is co-portfolio manager of the D...</td>\n",
       "      <td>510</td>\n",
       "      <td>['ongoing', 'unrest', 'hong', 'kong', 'risks',...</td>\n",
       "      <td>0</td>\n",
       "    </tr>\n",
       "    <tr>\n",
       "      <th>1484</th>\n",
       "      <td>Protesters are calling for a run on the Hong K...</td>\n",
       "      <td>Hong Kong anti-government protesters are prepa...</td>\n",
       "      <td>Hong Kong (CNN Business)Pro-democracy proteste...</td>\n",
       "      <td>555</td>\n",
       "      <td>['protesters', 'calling', 'run', 'hong', 'kong...</td>\n",
       "      <td>0</td>\n",
       "    </tr>\n",
       "    <tr>\n",
       "      <th>1541</th>\n",
       "      <td>Hong Kong police target protesters with rubber...</td>\n",
       "      <td>Pro-democracy protesters rally near subway sta...</td>\n",
       "      <td>Hong Kong police have fired rubber bullets, te...</td>\n",
       "      <td>449</td>\n",
       "      <td>['hong', 'kong', 'police', 'target', 'proteste...</td>\n",
       "      <td>0</td>\n",
       "    </tr>\n",
       "    <tr>\n",
       "      <th>1627</th>\n",
       "      <td>Fitch Downgrades Hong Kong Over China’s Strong...</td>\n",
       "      <td>The ratings firm cited Beijing’s growing influ...</td>\n",
       "      <td>Carrie Lam, Hong Kongs chief executive, on Fri...</td>\n",
       "      <td>475</td>\n",
       "      <td>['fitch', 'downgrades', 'hong', 'kong', 'china...</td>\n",
       "      <td>0</td>\n",
       "    </tr>\n",
       "    <tr>\n",
       "      <th>1792</th>\n",
       "      <td>Hong Kong protests: Beijing sends warning to p...</td>\n",
       "      <td>For now, China seems willing to be patient in ...</td>\n",
       "      <td>China has been warning the public that the end...</td>\n",
       "      <td>455</td>\n",
       "      <td>['hong', 'kong', 'protests', 'beijing', 'sends...</td>\n",
       "      <td>0</td>\n",
       "    </tr>\n",
       "    <tr>\n",
       "      <th>1810</th>\n",
       "      <td>Hong Kong braces for more protests as Merkel c...</td>\n",
       "      <td>Rallies to target airport, gov't buildings ove...</td>\n",
       "      <td>Hong Kong is bracing for more demonstrations o...</td>\n",
       "      <td>457</td>\n",
       "      <td>['hong', 'kong', 'braces', 'protests', 'merkel...</td>\n",
       "      <td>0</td>\n",
       "    </tr>\n",
       "  </tbody>\n",
       "</table>\n",
       "</div>"
      ],
      "text/plain": [
       "                                                  title  \\\n",
       "53    Hong Kong targets more pro-democracy activists...   \n",
       "252   China Used Twitter Porn Accounts to Spread Hon...   \n",
       "342   Hong Kong leader says she never discussed resi...   \n",
       "374   She’s a Protester, He’s a Police Officer: In H...   \n",
       "526   Beijing Asserts Power to Declare Emergency to ...   \n",
       "538   FedEx says correctly handled Hong Kong package...   \n",
       "614   Hong Kong Was Once Passionate About China. Now...   \n",
       "657   Hong Kong leader Carrie Lam denies offering to...   \n",
       "862   In Hong Kong Protests, China Angrily Connects ...   \n",
       "863   Hong Kong a priority for U.S. Senate Democrats...   \n",
       "1029  Hong Kong leader says China 'respects and supp...   \n",
       "1167  Hong Kong’s Lam vows to use ‘stern law enforce...   \n",
       "1213  'Half an Olive Branch' Fails to Pacify Hong Ko...   \n",
       "1335  As Hong Kong Protesters Push On, No Sign of Mo...   \n",
       "1409  Ongoing unrest in Hong Kong risks dragging dow...   \n",
       "1484  Protesters are calling for a run on the Hong K...   \n",
       "1541  Hong Kong police target protesters with rubber...   \n",
       "1627  Fitch Downgrades Hong Kong Over China’s Strong...   \n",
       "1792  Hong Kong protests: Beijing sends warning to p...   \n",
       "1810  Hong Kong braces for more protests as Merkel c...   \n",
       "\n",
       "                                            description  \\\n",
       "53    Three leaders, including Demosisto's Ivan Lam,...   \n",
       "252   Last month, Twitter took down almost 200,000 C...   \n",
       "342   Hong Kong leader Carrie Lam said on Tuesday sh...   \n",
       "374   What happens when families find themselves div...   \n",
       "526   Beijing Asserts Power to Declare Emergency to ...   \n",
       "538   FedEx Corp on Tuesday said it correctly handle...   \n",
       "614   Hong Kong’s intellectual and emotional links w...   \n",
       "657   Leaked comments from lunch with industry leade...   \n",
       "862   More and more fervently, China is depicting Am...   \n",
       "863   Legislation addressing China's actions in Hong...   \n",
       "1029  Hong Kong leader Carrie Lam said on Thursday t...   \n",
       "1167  Many protesters vow to keep demonstrating over...   \n",
       "1213  'Half an Olive Branch' Fails to Pacify Hong Ko...   \n",
       "1335  Demonstrators plan to hold more protests, call...   \n",
       "1409  News that Hong Kong Chief Executive Carrie Lam...   \n",
       "1484  Hong Kong anti-government protesters are prepa...   \n",
       "1541  Pro-democracy protesters rally near subway sta...   \n",
       "1627  The ratings firm cited Beijing’s growing influ...   \n",
       "1792  For now, China seems willing to be patient in ...   \n",
       "1810  Rallies to target airport, gov't buildings ove...   \n",
       "\n",
       "                                                content  length  \\\n",
       "53    Hong Kong's pro-democracy political party, Dem...     448   \n",
       "252   A new report has claimed that the Chinese gove...     468   \n",
       "342   HONG KONG (Reuters) - Hong Kong leader Carrie ...     589   \n",
       "374          1 U.S.\\r\\nPaul Manaforts Trail of Scandals     308   \n",
       "526   Chinas top office for Hong Kong affairs said i...     628   \n",
       "538   BEIJING (Reuters) - FedEx Corp (FDX.N) on Tues...     588   \n",
       "614   Even Communist Party-controlled newspapers in ...     524   \n",
       "657   Hong Kongs chief executive has struggled to re...     413   \n",
       "862   Hong Kong, by contrast, still allows nongovern...     484   \n",
       "863   WASHINGTON (Reuters) - Legislation addressing ...     536   \n",
       "1029  HONG KONG (Reuters) - Hong Kong leader Carrie ...     597   \n",
       "1167  Hong Kongs embattled leader, Carrie Lam, has v...     455   \n",
       "1213  HONG KONGFor three months, protests here have ...     446   \n",
       "1335  HONG KONG A day after Hong Kongs leader said s...     459   \n",
       "1409  Bill Campbell is co-portfolio manager of the D...     510   \n",
       "1484  Hong Kong (CNN Business)Pro-democracy proteste...     555   \n",
       "1541  Hong Kong police have fired rubber bullets, te...     449   \n",
       "1627  Carrie Lam, Hong Kongs chief executive, on Fri...     475   \n",
       "1792  China has been warning the public that the end...     455   \n",
       "1810  Hong Kong is bracing for more demonstrations o...     457   \n",
       "\n",
       "                                                article  cluster  \n",
       "53    ['hong', 'kong', 'targets', 'pro', 'democracy'...        0  \n",
       "252   ['china', 'used', 'twitter', 'porn', 'accounts...        0  \n",
       "342   ['hong', 'kong', 'leader', 'says', 'never', 'd...        0  \n",
       "374   ['protester', 'police', 'officer', 'hong', 'ko...        0  \n",
       "526   ['beijing', 'asserts', 'power', 'declare', 'em...        0  \n",
       "538   ['fedex', 'says', 'correctly', 'handled', 'hon...        0  \n",
       "614   ['hong', 'kong', 'passionate', 'china', 'indif...        0  \n",
       "657   ['hong', 'kong', 'leader', 'carrie', 'lam', 'd...        0  \n",
       "862   ['hong', 'kong', 'protests', 'china', 'angrily...        0  \n",
       "863   ['hong', 'kong', 'priority', 'us', 'senate', '...        0  \n",
       "1029  ['hong', 'kong', 'leader', 'says', 'china', 'r...        0  \n",
       "1167  ['hong', 'kong', 'lam', 'vows', 'use', 'stern'...        0  \n",
       "1213  ['half', 'olive', 'branch', 'fails', 'pacify',...        0  \n",
       "1335  ['hong', 'kong', 'protesters', 'push', 'sign',...        0  \n",
       "1409  ['ongoing', 'unrest', 'hong', 'kong', 'risks',...        0  \n",
       "1484  ['protesters', 'calling', 'run', 'hong', 'kong...        0  \n",
       "1541  ['hong', 'kong', 'police', 'target', 'proteste...        0  \n",
       "1627  ['fitch', 'downgrades', 'hong', 'kong', 'china...        0  \n",
       "1792  ['hong', 'kong', 'protests', 'beijing', 'sends...        0  \n",
       "1810  ['hong', 'kong', 'braces', 'protests', 'merkel...        0  "
      ]
     },
     "execution_count": 11,
     "metadata": {},
     "output_type": "execute_result"
    }
   ],
   "source": [
    "dataset_1[\"cluster\"] = kmeans_prediction\n",
    "\n",
    "dataset_1[dataset_1[\"cluster\"]==0].head(20)"
   ]
  },
  {
   "cell_type": "code",
   "execution_count": 12,
   "metadata": {},
   "outputs": [
    {
     "name": "stdout",
     "output_type": "stream",
     "text": [
      "108\n"
     ]
    },
    {
     "data": {
      "text/plain": [
       "53     ['hong', 'kong', 'targets', 'pro', 'democracy'...\n",
       "252    ['china', 'used', 'twitter', 'porn', 'accounts...\n",
       "342    ['hong', 'kong', 'leader', 'says', 'never', 'd...\n",
       "374    ['protester', 'police', 'officer', 'hong', 'ko...\n",
       "526    ['beijing', 'asserts', 'power', 'declare', 'em...\n",
       "538    ['fedex', 'says', 'correctly', 'handled', 'hon...\n",
       "614    ['hong', 'kong', 'passionate', 'china', 'indif...\n",
       "657    ['hong', 'kong', 'leader', 'carrie', 'lam', 'd...\n",
       "862    ['hong', 'kong', 'protests', 'china', 'angrily...\n",
       "863    ['hong', 'kong', 'priority', 'us', 'senate', '...\n",
       "Name: article, dtype: object"
      ]
     },
     "execution_count": 12,
     "metadata": {},
     "output_type": "execute_result"
    }
   ],
   "source": [
    "print(len(dataset_1[dataset_1['cluster']==0]))\n",
    "dataset_1[dataset_1[\"cluster\"]==0].article.head(10)"
   ]
  },
  {
   "cell_type": "code",
   "execution_count": 13,
   "metadata": {},
   "outputs": [
    {
     "name": "stderr",
     "output_type": "stream",
     "text": [
      "C:\\Users\\Rifka\\anaconda3\\lib\\site-packages\\seaborn\\_decorators.py:36: FutureWarning: Pass the following variable as a keyword arg: x. From version 0.12, the only valid positional argument will be `data`, and passing other arguments without an explicit keyword will result in an error or misinterpretation.\n",
      "  warnings.warn(\n"
     ]
    },
    {
     "data": {
      "image/png": "[encoded data removed]",
      "text/plain": [
       "<Figure size 432x288 with 1 Axes>"
      ]
     },
     "metadata": {
      "needs_background": "light"
     },
     "output_type": "display_data"
    }
   ],
   "source": [
    "# Cek keseimbangan data untuk setiap cluster\n",
    "import numpy as np\n",
    "import pandas as pd\n",
    "import matplotlib as plt\n",
    "import matplotlib.pyplot as plt\n",
    "import seaborn as sns\n",
    "# Menampilkan visualisasi dalam bentuk bar chart untuk jumlah dari setiap kelas\n",
    "g = sns.countplot(dataset_1['cluster'])\n",
    "g.set_xticklabels(['0','1','2','3'])\n",
    "plt.show()"
   ]
  },
  {
   "cell_type": "code",
   "execution_count": 14,
   "metadata": {
    "scrolled": true
   },
   "outputs": [
    {
     "data": {
      "text/plain": [
       "2    8693\n",
       "0     108\n",
       "3       2\n",
       "1       1\n",
       "Name: cluster, dtype: int64"
      ]
     },
     "execution_count": 14,
     "metadata": {},
     "output_type": "execute_result"
    }
   ],
   "source": [
    "# Menampilkan jumlah data untuk setiap cluster\n",
    "dataset_1['cluster'].value_counts()"
   ]
  },
  {
   "cell_type": "code",
   "execution_count": 15,
   "metadata": {},
   "outputs": [],
   "source": [
    "dataset_1.to_csv( \"data/dataset_1-cluster.csv\", index=False, encoding='utf-8-sig')"
   ]
  },
  {
   "cell_type": "markdown",
   "metadata": {},
   "source": [
    "<h3>TF-IDF Group</h3>"
   ]
  },
  {
   "cell_type": "code",
   "execution_count": 16,
   "metadata": {},
   "outputs": [
    {
     "name": "stdout",
     "output_type": "stream",
     "text": [
      "['gregor', 'townsend', 'believes', 'scotland', 'never', 'better', 'position']\n",
      "\n",
      "type :  <class 'list'>\n"
     ]
    }
   ],
   "source": [
    "# convert list formated string to list\n",
    "import ast\n",
    "\n",
    "def convert_text_list(texts):\n",
    "    texts = ast.literal_eval(texts)\n",
    "    return [text for text in texts]\n",
    "\n",
    "dataset_1[\"article_list\"] = dataset_1[\"article\"].apply(convert_text_list)\n",
    "\n",
    "\n",
    "print(dataset_1[\"article_list\"][90])\n",
    "\n",
    "print(\"\\ntype : \", type(dataset_1[\"article_list\"][90]))"
   ]
  },
  {
   "cell_type": "code",
   "execution_count": null,
   "metadata": {},
   "outputs": [],
   "source": [
    "#on progress"
   ]
  }
 ],
 "metadata": {
  "kernelspec": {
   "display_name": "Python 3",
   "language": "python",
   "name": "python3"
  },
  "language_info": {
   "codemirror_mode": {
    "name": "ipython",
    "version": 3
   },
   "file_extension": ".py",
   "mimetype": "text/x-python",
   "name": "python",
   "nbconvert_exporter": "python",
   "pygments_lexer": "ipython3",
   "version": "3.8.3"
  }
 },
 "nbformat": 4,
 "nbformat_minor": 4
}
